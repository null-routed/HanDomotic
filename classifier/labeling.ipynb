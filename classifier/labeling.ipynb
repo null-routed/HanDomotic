{
 "cells": [
  {
   "cell_type": "markdown",
   "metadata": {},
   "source": [
    "## Tool for selecting valid segments"
   ]
  },
  {
   "cell_type": "code",
   "execution_count": 131,
   "metadata": {},
   "outputs": [],
   "source": [
    "import numpy as np\n",
    "import pandas as pd\n",
    "import matplotlib.pyplot as plt\n",
    "from ipywidgets import Button, HBox, Output, VBox\n",
    "import json\n",
    "import matplotlib.dates as mdates\n",
    "\n",
    "# Ensure that matplotlib plots inline\n",
    "%matplotlib inline"
   ]
  },
  {
   "cell_type": "markdown",
   "metadata": {},
   "source": [
    "## Loading and Segmentation"
   ]
  },
  {
   "cell_type": "code",
   "execution_count": 132,
   "metadata": {},
   "outputs": [],
   "source": [
    "def load_data(filepath):\n",
    "    with open(filepath, 'r') as file:\n",
    "        data = json.load(file)\n",
    "    # Create a list of DataFrames, one for each gesture\n",
    "    dfs = []\n",
    "    for item in data:\n",
    "        df = pd.DataFrame({\n",
    "            'timestamps': item['timestamps'],\n",
    "            'xTimeSeries': item['xTimeSeries'],\n",
    "            'yTimeSeries': item['yTimeSeries'],\n",
    "            'zTimeSeries': item['zTimeSeries'],\n",
    "        })\n",
    "        df['timestamps'] = pd.to_datetime(df['timestamps'], unit='ms')  # Convert Unix ms to datetime\n",
    "        dfs.append(df)\n",
    "    return dfs"
   ]
  },
  {
   "cell_type": "code",
   "execution_count": 133,
   "metadata": {},
   "outputs": [],
   "source": [
    "def segment_signal(df, window_size=100, overlap=50):\n",
    "    segments = []\n",
    "    start = 0\n",
    "    end = start + window_size\n",
    "    while end <= len(df):\n",
    "        segments.append(df.iloc[start:end])\n",
    "        start += (window_size - overlap)\n",
    "        end = start + window_size\n",
    "    return segments\n"
   ]
  },
  {
   "cell_type": "markdown",
   "metadata": {},
   "source": [
    "## Visualization and labelling"
   ]
  },
  {
   "cell_type": "code",
   "execution_count": 134,
   "metadata": {},
   "outputs": [],
   "source": [
    "\n",
    "def plot_and_label(dataframes, window_size=100, overlap=50):\n",
    "    out = Output()\n",
    "    segments = []\n",
    "    gesture_boundaries = []  # To track the start of each gesture's segments\n",
    "    current_boundary = 0\n",
    "\n",
    "    for idx, df in enumerate(dataframes):\n",
    "        gesture_segments = segment_signal(df, window_size, overlap)\n",
    "        segments.extend([(segment.copy(), df, idx) for segment in gesture_segments])\n",
    "        gesture_boundaries.append((current_boundary, current_boundary + len(gesture_segments)))\n",
    "        current_boundary += len(gesture_segments)\n",
    "\n",
    "    labels = ['Unlabeled'] * len(segments)  # Initialize labels to 'Unlabeled'\n",
    "    current_segment_index = 0\n",
    "\n",
    "    def plot_segment(index):\n",
    "        segment, full_df, df_index = segments[index]\n",
    "        current_gesture_index = df_index + 1\n",
    "        total_gestures = len(dataframes)\n",
    "\n",
    "        with out:\n",
    "            out.clear_output(wait=True)\n",
    "            plt.figure(figsize=(12, 6))\n",
    "            plt.plot(full_df['timestamps'], full_df['xTimeSeries'], label='xTimeSeries', color='lightgray')\n",
    "            plt.plot(full_df['timestamps'], full_df['yTimeSeries'], label='yTimeSeries', color='lightgray')\n",
    "            plt.plot(full_df['timestamps'], full_df['zTimeSeries'], label='zTimeSeries', color='lightgray')\n",
    "            plt.title(f'Full Time Series - Gesture {current_gesture_index} of {total_gestures}')\n",
    "            plt.xlabel('Time')\n",
    "            plt.ylabel('Acceleration')\n",
    "            plt.legend()\n",
    "            plt.grid(True)\n",
    "            plt.axvspan(segment['timestamps'].iloc[0], segment['timestamps'].iloc[-1], color='yellow', alpha=0.3)\n",
    "            plt.gca().xaxis.set_major_locator(mdates.SecondLocator())\n",
    "            plt.gca().xaxis.set_major_formatter(mdates.DateFormatter('%H:%M:%S'))\n",
    "            plt.xticks(rotation=45)\n",
    "            plt.tight_layout()\n",
    "            plt.show()\n",
    "            print(f\"Labeling {index + 1}/{len(segments)}: Current label is '{labels[index]}'\")\n",
    "\n",
    "    def on_button_clicked(label):\n",
    "        def callback(b):\n",
    "            nonlocal current_segment_index\n",
    "            if label == 'Next Gesture':\n",
    "                # Skip to the next gesture's segments\n",
    "                current_segment_index = next((end for start, end in gesture_boundaries if start <= current_segment_index < end), len(segments))\n",
    "            else:\n",
    "                labels[current_segment_index] = label if label != 'Discard' else 'Discarded'\n",
    "                print(f\"Set label '{labels[current_segment_index]}' for segment {current_segment_index + 1}\")  # Immediate feedback\n",
    "\n",
    "            current_segment_index += 1\n",
    "            if current_segment_index < len(segments):\n",
    "                plot_segment(current_segment_index)\n",
    "            else:\n",
    "                save_labeled_data()\n",
    "        return callback\n",
    "\n",
    "    def save_labeled_data():\n",
    "        def convert_df_to_serializable_dict(segment, label):\n",
    "            # Convert DataFrame to a dict and handle Timestamp serialization\n",
    "            return {\n",
    "                'timestamps': segment['timestamps'].apply(lambda x: x.isoformat() if pd.notnull(x) else None).tolist(),\n",
    "                'xTimeSeries': segment['xTimeSeries'].tolist(),\n",
    "                'yTimeSeries': segment['yTimeSeries'].tolist(),\n",
    "                'zTimeSeries': segment['zTimeSeries'].tolist(),\n",
    "                'label': label  # Attach the label\n",
    "            }\n",
    "\n",
    "        serialized_data = []\n",
    "        for i, (segment, _, _) in enumerate(segments):\n",
    "            if labels[i] != 'Discarded' and labels[i] != 'Unlabeled':\n",
    "                data_dict = convert_df_to_serializable_dict(segment, labels[i])\n",
    "                serialized_data.append(data_dict)\n",
    "        \n",
    "        with open('labeled_data.json', 'w') as file:\n",
    "            json.dump(serialized_data, file)\n",
    "        with out:\n",
    "            out.clear_output()\n",
    "            print(f\"All segments labeled and saved, {len(serialized_data)} segments included.\")\n",
    "\n",
    "    button_labels = ['Circle', 'Clap', 'Other', 'Discard', 'Next Gesture']\n",
    "    buttons = [Button(description=label) for label in button_labels]\n",
    "    for button in buttons:\n",
    "        button.on_click(on_button_clicked(button.description))\n",
    "\n",
    "    display(VBox([HBox(buttons), out]))\n",
    "    plot_segment(current_segment_index)\n",
    "\n",
    "# Ensure segment_signal is defined correctly and plot_and_label is called appropriately.\n"
   ]
  },
  {
   "cell_type": "code",
   "execution_count": 135,
   "metadata": {},
   "outputs": [
    {
     "data": {
      "application/vnd.jupyter.widget-view+json": {
       "model_id": "8d4b5b01cd6749219cea6cfe361d3a28",
       "version_major": 2,
       "version_minor": 0
      },
      "text/plain": [
       "VBox(children=(HBox(children=(Button(description='Circle', style=ButtonStyle()), Button(description='Clap', st…"
      ]
     },
     "metadata": {},
     "output_type": "display_data"
    },
    {
     "name": "stdout",
     "output_type": "stream",
     "text": [
      "Set label 'Other' for segment 1\n"
     ]
    },
    {
     "name": "stdout",
     "output_type": "stream",
     "text": [
      "Set label 'Discarded' for segment 2\n"
     ]
    },
    {
     "name": "stdout",
     "output_type": "stream",
     "text": [
      "Set label 'Discarded' for segment 3\n"
     ]
    },
    {
     "name": "stdout",
     "output_type": "stream",
     "text": [
      "Set label 'Discarded' for segment 4\n"
     ]
    },
    {
     "name": "stdout",
     "output_type": "stream",
     "text": [
      "Set label 'Clap' for segment 5\n"
     ]
    }
   ],
   "source": [
    "filepath = 'circle_data.json'  # Update with your actual file path\n",
    "dataframes = load_data(filepath)\n",
    "plot_and_label(dataframes, 40,30)\n"
   ]
  }
 ],
 "metadata": {
  "kernelspec": {
   "display_name": "Python 3",
   "language": "python",
   "name": "python3"
  },
  "language_info": {
   "codemirror_mode": {
    "name": "ipython",
    "version": 3
   },
   "file_extension": ".py",
   "mimetype": "text/x-python",
   "name": "python",
   "nbconvert_exporter": "python",
   "pygments_lexer": "ipython3",
   "version": "3.8.8"
  }
 },
 "nbformat": 4,
 "nbformat_minor": 2
}
